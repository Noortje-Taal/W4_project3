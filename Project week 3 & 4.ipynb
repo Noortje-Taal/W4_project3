{
 "cells": [
  {
   "cell_type": "code",
   "execution_count": 1,
   "metadata": {},
   "outputs": [],
   "source": [
    "'''\n",
    "L.S. Well done! Even though you faced a lot of problems with respect to finding the data, you managed to deliver a\n",
    "good project. The code looks nice and clean. Please pay attention next time to how you plot categorical vs. continuous data.\n",
    "I like the quality of the code -- especially the fact that the file is well-structured. You met all the requirements and\n",
    "even used simple regressions to find relationships in the data. Very nice!\n",
    "'''\n",
    "\n",
    "\n",
    "# WEB SCRAPING PART"
   ]
  },
  {
   "cell_type": "code",
   "execution_count": 2,
   "metadata": {},
   "outputs": [],
   "source": [
    "import requests\n",
    "from bs4 import BeautifulSoup\n",
    "import pandas as pd\n",
    "import numpy as np \n",
    "import re\n",
    "import json\n",
    "from pandas.io.json import json_normalize\n",
    "\n",
    "import matplotlib.pyplot as plt\n",
    "import seaborn as sns\n",
    "%matplotlib inline\n",
    "from scipy.stats import norm \n",
    "\n",
    "from scipy import stats"
   ]
  },
  {
   "cell_type": "code",
   "execution_count": 3,
   "metadata": {},
   "outputs": [],
   "source": [
    "url = 'https://www.sportbible.com/football/reactions-news-take-a-bow-the-top-100-best-male-footballers-in-the-world-ranked-20190522'\n",
    "data = requests.get(url).content\n",
    "soup = BeautifulSoup(data, \"html.parser\")"
   ]
  },
  {
   "cell_type": "code",
   "execution_count": 4,
   "metadata": {},
   "outputs": [],
   "source": [
    "'''\n",
    "L.S. Looks good! \n",
    "'''\n",
    "\n",
    "table = soup.find_all('p')\n",
    "text = [t.text for t in table]\n",
    "new_text = [t.split(\"Here's the full-list\") for t in text]\n",
    "list_names = new_text[6]\n",
    "\n",
    "new_list = []\n",
    "new_list2 = []\n",
    "new_list3 = []\n",
    "new_list4 = []\n",
    "new_list5 = []\n",
    "\n",
    "'''\n",
    "L.S. Nice, clear code. However, be careful when some variable- or function name turns red. \n",
    "'''\n",
    "\n",
    "for i in list_names: # drop numbers from our list'\n",
    "   pattern = '[^[0-9]+]*'\n",
    "   new_list = re.findall(pattern, i)\n",
    "\n",
    "for i in new_list: #drop '. '\n",
    "   new_list2.append(i.split('. ')[1])\n",
    "\n",
    "for i in new_list2: # drop '\\n' from the end of list\n",
    "   new_list3.append(i.split('\\n')[0])\n",
    "\n",
    "for i in new_list3: # split list by ' ' - at result we have list of lists\n",
    "   new_list4.append(i.split(' '))\n",
    "\n",
    "for i in new_list4: # result list : last name + first name\n",
    "   if len(i) == 1:\n",
    "       new_list5.append(i[0])\n",
    "   elif len(i) == 2:\n",
    "       new_list5.append(i[1]+ ' ' +i[0])\n",
    "   elif len(i) == 3:\n",
    "       new_list5.append(i[1]+ ' ' + i[2] + ' ' + i[0])\n",
    "\n",
    "# correct text mistakes \n",
    "new_list5[new_list5.index('Van Dijk Virgl')] = 'Van Dijk Virgil'\n",
    "new_list5[new_list5.index('Rakitic  Ivan')] = 'Rakitic Ivan'\n",
    "new_list5[new_list5.index(' Fernandinho')] = 'Fernandinho'\n",
    "new_list5[new_list5.index('Torreira  Lucas')] = 'Torreira Lucas'"
   ]
  },
  {
   "cell_type": "code",
   "execution_count": 5,
   "metadata": {},
   "outputs": [],
   "source": [
    "# API PART"
   ]
  },
  {
   "cell_type": "code",
   "execution_count": 6,
   "metadata": {},
   "outputs": [],
   "source": [
    "'''\n",
    "L.S. Very good!\n",
    "'''\n",
    "\n",
    "# loop for every name in list & making list for all API's\n",
    "lst_api = []\n",
    "for i in new_list5:\n",
    "    data = 'https://apiv2.apifootball.com/?action=get_players&player_name={}'.format(i)+'&APIkey=4c2d6d595d5e02c1d00d3aeec4cd45eccc0b7c93605fb84a74dc5874450da995'\n",
    "    lst_api.append(data) "
   ]
  },
  {
   "cell_type": "code",
   "execution_count": 7,
   "metadata": {},
   "outputs": [],
   "source": [
    "# get data out of all API's \n",
    "lst_data = []\n",
    "for url in lst_api:\n",
    "    response = requests.get(url)\n",
    "    results = response.json() \n",
    "    lst_data.append(results)"
   ]
  },
  {
   "cell_type": "code",
   "execution_count": 8,
   "metadata": {},
   "outputs": [],
   "source": [
    "# getting 1 level deeper (list of dics instead of list of lists of dics)\n",
    "lst_data_2 = [y for x in lst_data for y in x]"
   ]
  },
  {
   "cell_type": "code",
   "execution_count": 9,
   "metadata": {},
   "outputs": [],
   "source": [
    "# filter string \n",
    "final_list = []\n",
    "\n",
    "for i in lst_data_2: \n",
    "    if type(i) is not str:\n",
    "        final_list.append(i) "
   ]
  },
  {
   "cell_type": "code",
   "execution_count": 10,
   "metadata": {},
   "outputs": [],
   "source": [
    "# filter dictionary: if value in dict == name in name_list \n",
    "data_players = []\n",
    "\n",
    "for dic in final_list:\n",
    "    for k, v in dic.items():\n",
    "        if v in new_list5:\n",
    "            data_players.append(dic)"
   ]
  },
  {
   "cell_type": "code",
   "execution_count": 11,
   "metadata": {},
   "outputs": [
    {
     "name": "stderr",
     "output_type": "stream",
     "text": [
      "/Users/noortjetaal/anaconda3/lib/python3.7/site-packages/ipykernel_launcher.py:11: SettingWithCopyWarning: \n",
      "A value is trying to be set on a copy of a slice from a DataFrame.\n",
      "Try using .loc[row_indexer,col_indexer] = value instead\n",
      "\n",
      "See the caveats in the documentation: http://pandas.pydata.org/pandas-docs/stable/indexing.html#indexing-view-versus-copy\n",
      "  # This is added back by InteractiveShellApp.init_path()\n",
      "/Users/noortjetaal/anaconda3/lib/python3.7/site-packages/pandas/core/frame.py:3940: SettingWithCopyWarning: \n",
      "A value is trying to be set on a copy of a slice from a DataFrame\n",
      "\n",
      "See the caveats in the documentation: http://pandas.pydata.org/pandas-docs/stable/indexing.html#indexing-view-versus-copy\n",
      "  errors=errors)\n"
     ]
    }
   ],
   "source": [
    "# make dataframe \n",
    "'''\n",
    "L.S. Good, however, instead of using the |, you should use 'or' \n",
    "'''\n",
    "\n",
    "data = json_normalize(data_players) \n",
    "\n",
    "# split dataframe for double named players \n",
    "df_double_names = data[(data.player_name == 'Willian') | (data.player_name == 'Marcelo') \n",
    "                       | (data.player_name == 'Alisson') | (data.player_name == 'Jorginho') \n",
    "                       | (data.player_name == 'Fernandinho') | (data.player_name == 'Silva David') \n",
    "                       | (data.player_name == 'Hernandez Lucas')]\n",
    "\n",
    "# only keep correct doubles \n",
    "df_double_names[\"combined\"] = df_double_names.apply(lambda row: row.player_name+\"*\"+row.team_name, axis=1)\n",
    "df_names_filter = df_double_names[df_double_names[\"combined\"].isin(['Willian*Chelsea', 'Marcelo*Real Madrid', \n",
    "                                                                    'Alisson*Liverpool', 'Jorgihno*Chelsea', \n",
    "                                                                    'Fernandinho*Manchester City', \n",
    "                                                                    'Silva David*Manchester City', \n",
    "                                                                    'Hernandez Lucas*Bayern Munich'])==True]\n",
    "\n",
    "df_names_filter.drop(['combined'], axis=1, inplace=True)"
   ]
  },
  {
   "cell_type": "code",
   "execution_count": 12,
   "metadata": {},
   "outputs": [
    {
     "data": {
      "text/html": [
       "<div>\n",
       "<style scoped>\n",
       "    .dataframe tbody tr th:only-of-type {\n",
       "        vertical-align: middle;\n",
       "    }\n",
       "\n",
       "    .dataframe tbody tr th {\n",
       "        vertical-align: top;\n",
       "    }\n",
       "\n",
       "    .dataframe thead th {\n",
       "        text-align: right;\n",
       "    }\n",
       "</style>\n",
       "<table border=\"1\" class=\"dataframe\">\n",
       "  <thead>\n",
       "    <tr style=\"text-align: right;\">\n",
       "      <th></th>\n",
       "      <th>player_name</th>\n",
       "      <th>player_age</th>\n",
       "      <th>player_country</th>\n",
       "      <th>team_name</th>\n",
       "      <th>player_type</th>\n",
       "      <th>player_match_played</th>\n",
       "      <th>player_goals</th>\n",
       "      <th>player_red_cards</th>\n",
       "      <th>player_yellow_cards</th>\n",
       "    </tr>\n",
       "  </thead>\n",
       "  <tbody>\n",
       "    <tr>\n",
       "      <th>0</th>\n",
       "      <td>Modric Luka</td>\n",
       "      <td>34</td>\n",
       "      <td>Croatia</td>\n",
       "      <td>Real Madrid</td>\n",
       "      <td>Midfielders</td>\n",
       "      <td>4</td>\n",
       "      <td>1</td>\n",
       "      <td>1</td>\n",
       "      <td>0</td>\n",
       "    </tr>\n",
       "    <tr>\n",
       "      <th>1</th>\n",
       "      <td>Ronaldo Cristiano</td>\n",
       "      <td>34</td>\n",
       "      <td>Portugal</td>\n",
       "      <td>Juventus</td>\n",
       "      <td>Forwards</td>\n",
       "      <td>7</td>\n",
       "      <td>4</td>\n",
       "      <td>0</td>\n",
       "      <td>0</td>\n",
       "    </tr>\n",
       "    <tr>\n",
       "      <th>2</th>\n",
       "      <td>Messi Lionel</td>\n",
       "      <td>32</td>\n",
       "      <td>Argentina</td>\n",
       "      <td>Barcelona</td>\n",
       "      <td>Forwards</td>\n",
       "      <td>4</td>\n",
       "      <td>2</td>\n",
       "      <td>0</td>\n",
       "      <td>0</td>\n",
       "    </tr>\n",
       "    <tr>\n",
       "      <th>3</th>\n",
       "      <td>Mbappe Kylian</td>\n",
       "      <td>20</td>\n",
       "      <td>France</td>\n",
       "      <td>Paris SG</td>\n",
       "      <td>Forwards</td>\n",
       "      <td>5</td>\n",
       "      <td>2</td>\n",
       "      <td>0</td>\n",
       "      <td>0</td>\n",
       "    </tr>\n",
       "    <tr>\n",
       "      <th>4</th>\n",
       "      <td>Salah Mohamed</td>\n",
       "      <td>27</td>\n",
       "      <td>Egypt</td>\n",
       "      <td>Liverpool</td>\n",
       "      <td>Forwards</td>\n",
       "      <td>8</td>\n",
       "      <td>4</td>\n",
       "      <td>0</td>\n",
       "      <td>0</td>\n",
       "    </tr>\n",
       "  </tbody>\n",
       "</table>\n",
       "</div>"
      ],
      "text/plain": [
       "         player_name player_age player_country    team_name  player_type  \\\n",
       "0        Modric Luka         34        Croatia  Real Madrid  Midfielders   \n",
       "1  Ronaldo Cristiano         34       Portugal     Juventus     Forwards   \n",
       "2       Messi Lionel         32      Argentina    Barcelona     Forwards   \n",
       "3      Mbappe Kylian         20         France     Paris SG     Forwards   \n",
       "4      Salah Mohamed         27          Egypt    Liverpool     Forwards   \n",
       "\n",
       "  player_match_played player_goals player_red_cards player_yellow_cards  \n",
       "0                   4            1                1                   0  \n",
       "1                   7            4                0                   0  \n",
       "2                   4            2                0                   0  \n",
       "3                   5            2                0                   0  \n",
       "4                   8            4                0                   0  "
      ]
     },
     "execution_count": 12,
     "metadata": {},
     "output_type": "execute_result"
    }
   ],
   "source": [
    "# split data frame without double names \n",
    "df_no_double_names = data[(data.player_name != 'Willian') & (data.player_name != 'Marcelo') &\n",
    "                          (data.player_name != 'Alisson') & (data.player_name != 'Jorginho') \n",
    "                          & (data.player_name != 'Fernandinho') & (data.player_name != 'Silva David') \n",
    "                          & (data.player_name != 'Hernandez Lucas')]\n",
    "\n",
    "# create final data frame in which each correct name will be appear once \n",
    "final_data = df_no_double_names.append(df_names_filter)\n",
    "\n",
    "# drop columns & change order \n",
    "final_data_2 = final_data[['player_name', 'player_age', 'player_country', 'team_name', 'player_type', \n",
    "                           'player_match_played', 'player_goals', 'player_red_cards', 'player_yellow_cards']]\n",
    "\n",
    "'''\n",
    "L.S. Very good!\n",
    "'''\n",
    "\n",
    "final_data_2.head()"
   ]
  },
  {
   "cell_type": "code",
   "execution_count": 13,
   "metadata": {},
   "outputs": [
    {
     "name": "stderr",
     "output_type": "stream",
     "text": [
      "/Users/noortjetaal/anaconda3/lib/python3.7/site-packages/pandas/core/frame.py:3391: SettingWithCopyWarning: \n",
      "A value is trying to be set on a copy of a slice from a DataFrame.\n",
      "Try using .loc[row_indexer,col_indexer] = value instead\n",
      "\n",
      "See the caveats in the documentation: http://pandas.pydata.org/pandas-docs/stable/indexing.html#indexing-view-versus-copy\n",
      "  self[k1] = value[k2]\n",
      "/Users/noortjetaal/anaconda3/lib/python3.7/site-packages/ipykernel_launcher.py:12: SettingWithCopyWarning: \n",
      "A value is trying to be set on a copy of a slice from a DataFrame.\n",
      "Try using .loc[row_indexer,col_indexer] = value instead\n",
      "\n",
      "See the caveats in the documentation: http://pandas.pydata.org/pandas-docs/stable/indexing.html#indexing-view-versus-copy\n",
      "  if sys.path[0] == '':\n"
     ]
    },
    {
     "data": {
      "text/html": [
       "<div>\n",
       "<style scoped>\n",
       "    .dataframe tbody tr th:only-of-type {\n",
       "        vertical-align: middle;\n",
       "    }\n",
       "\n",
       "    .dataframe tbody tr th {\n",
       "        vertical-align: top;\n",
       "    }\n",
       "\n",
       "    .dataframe thead th {\n",
       "        text-align: right;\n",
       "    }\n",
       "</style>\n",
       "<table border=\"1\" class=\"dataframe\">\n",
       "  <thead>\n",
       "    <tr style=\"text-align: right;\">\n",
       "      <th></th>\n",
       "      <th>player_name</th>\n",
       "      <th>player_age</th>\n",
       "      <th>player_country</th>\n",
       "      <th>team_name</th>\n",
       "      <th>player_type</th>\n",
       "      <th>player_match_played</th>\n",
       "      <th>player_goals</th>\n",
       "      <th>player_red_cards</th>\n",
       "      <th>player_yellow_cards</th>\n",
       "      <th>profit</th>\n",
       "    </tr>\n",
       "  </thead>\n",
       "  <tbody>\n",
       "    <tr>\n",
       "      <th>0</th>\n",
       "      <td>Modric Luka</td>\n",
       "      <td>34</td>\n",
       "      <td>Croatia</td>\n",
       "      <td>Real Madrid</td>\n",
       "      <td>Midfielders</td>\n",
       "      <td>4</td>\n",
       "      <td>1</td>\n",
       "      <td>1</td>\n",
       "      <td>0</td>\n",
       "      <td>0.250000</td>\n",
       "    </tr>\n",
       "    <tr>\n",
       "      <th>1</th>\n",
       "      <td>Ronaldo Cristiano</td>\n",
       "      <td>34</td>\n",
       "      <td>Portugal</td>\n",
       "      <td>Juventus</td>\n",
       "      <td>Forwards</td>\n",
       "      <td>7</td>\n",
       "      <td>4</td>\n",
       "      <td>0</td>\n",
       "      <td>0</td>\n",
       "      <td>0.571429</td>\n",
       "    </tr>\n",
       "    <tr>\n",
       "      <th>2</th>\n",
       "      <td>Messi Lionel</td>\n",
       "      <td>32</td>\n",
       "      <td>Argentina</td>\n",
       "      <td>Barcelona</td>\n",
       "      <td>Forwards</td>\n",
       "      <td>4</td>\n",
       "      <td>2</td>\n",
       "      <td>0</td>\n",
       "      <td>0</td>\n",
       "      <td>0.500000</td>\n",
       "    </tr>\n",
       "    <tr>\n",
       "      <th>3</th>\n",
       "      <td>Mbappe Kylian</td>\n",
       "      <td>20</td>\n",
       "      <td>France</td>\n",
       "      <td>Paris SG</td>\n",
       "      <td>Forwards</td>\n",
       "      <td>5</td>\n",
       "      <td>2</td>\n",
       "      <td>0</td>\n",
       "      <td>0</td>\n",
       "      <td>0.400000</td>\n",
       "    </tr>\n",
       "    <tr>\n",
       "      <th>4</th>\n",
       "      <td>Salah Mohamed</td>\n",
       "      <td>27</td>\n",
       "      <td>Egypt</td>\n",
       "      <td>Liverpool</td>\n",
       "      <td>Forwards</td>\n",
       "      <td>8</td>\n",
       "      <td>4</td>\n",
       "      <td>0</td>\n",
       "      <td>0</td>\n",
       "      <td>0.500000</td>\n",
       "    </tr>\n",
       "  </tbody>\n",
       "</table>\n",
       "</div>"
      ],
      "text/plain": [
       "         player_name  player_age player_country    team_name  player_type  \\\n",
       "0        Modric Luka          34        Croatia  Real Madrid  Midfielders   \n",
       "1  Ronaldo Cristiano          34       Portugal     Juventus     Forwards   \n",
       "2       Messi Lionel          32      Argentina    Barcelona     Forwards   \n",
       "3      Mbappe Kylian          20         France     Paris SG     Forwards   \n",
       "4      Salah Mohamed          27          Egypt    Liverpool     Forwards   \n",
       "\n",
       "   player_match_played  player_goals  player_red_cards  player_yellow_cards  \\\n",
       "0                    4             1                 1                    0   \n",
       "1                    7             4                 0                    0   \n",
       "2                    4             2                 0                    0   \n",
       "3                    5             2                 0                    0   \n",
       "4                    8             4                 0                    0   \n",
       "\n",
       "     profit  \n",
       "0  0.250000  \n",
       "1  0.571429  \n",
       "2  0.500000  \n",
       "3  0.400000  \n",
       "4  0.500000  "
      ]
     },
     "execution_count": 13,
     "metadata": {},
     "output_type": "execute_result"
    }
   ],
   "source": [
    "# check types & change some columns to int \n",
    "'''\n",
    "L.S. Indeed, well done. \n",
    "'''\n",
    "\n",
    "final_data_2.dtypes \n",
    "\n",
    "# make int of player_age, player_match_played, player_goals, player_red_cards, player_yellow_cards\n",
    "final_data_2[['player_age', 'player_match_played', 'player_goals', 'player_red_cards',\n",
    "              'player_yellow_cards']] = final_data_2[['player_age', 'player_match_played', 'player_goals', \n",
    "                                                      'player_red_cards', 'player_yellow_cards']].astype(int)\n",
    "# check types again\n",
    "final_data_2.dtypes \n",
    "\n",
    "# make colum avg goals/game after making them integers \n",
    "final_data_2['profit'] =  final_data_2['player_goals'] / final_data_2['player_match_played']\n",
    "final_data_2.head()"
   ]
  },
  {
   "cell_type": "code",
   "execution_count": 14,
   "metadata": {},
   "outputs": [],
   "source": [
    "# ANALYSE & VISUALISATION PART "
   ]
  },
  {
   "cell_type": "code",
   "execution_count": 15,
   "metadata": {},
   "outputs": [
    {
     "name": "stderr",
     "output_type": "stream",
     "text": [
      "/Users/noortjetaal/anaconda3/lib/python3.7/site-packages/pandas/core/generic.py:6130: SettingWithCopyWarning: \n",
      "A value is trying to be set on a copy of a slice from a DataFrame\n",
      "\n",
      "See the caveats in the documentation: http://pandas.pydata.org/pandas-docs/stable/indexing.html#indexing-view-versus-copy\n",
      "  self._update_inplace(new_data)\n"
     ]
    },
    {
     "data": {
      "text/html": [
       "<div>\n",
       "<style scoped>\n",
       "    .dataframe tbody tr th:only-of-type {\n",
       "        vertical-align: middle;\n",
       "    }\n",
       "\n",
       "    .dataframe tbody tr th {\n",
       "        vertical-align: top;\n",
       "    }\n",
       "\n",
       "    .dataframe thead th {\n",
       "        text-align: right;\n",
       "    }\n",
       "</style>\n",
       "<table border=\"1\" class=\"dataframe\">\n",
       "  <thead>\n",
       "    <tr style=\"text-align: right;\">\n",
       "      <th></th>\n",
       "      <th>count</th>\n",
       "      <th>mean</th>\n",
       "      <th>std</th>\n",
       "      <th>min</th>\n",
       "      <th>25%</th>\n",
       "      <th>50%</th>\n",
       "      <th>75%</th>\n",
       "      <th>max</th>\n",
       "    </tr>\n",
       "  </thead>\n",
       "  <tbody>\n",
       "    <tr>\n",
       "      <th>player_age</th>\n",
       "      <td>85.0</td>\n",
       "      <td>28.694118</td>\n",
       "      <td>3.693700</td>\n",
       "      <td>20.0</td>\n",
       "      <td>26.0</td>\n",
       "      <td>28.000000</td>\n",
       "      <td>32.0</td>\n",
       "      <td>41.0</td>\n",
       "    </tr>\n",
       "    <tr>\n",
       "      <th>player_match_played</th>\n",
       "      <td>85.0</td>\n",
       "      <td>6.176471</td>\n",
       "      <td>2.450347</td>\n",
       "      <td>0.0</td>\n",
       "      <td>5.0</td>\n",
       "      <td>7.000000</td>\n",
       "      <td>8.0</td>\n",
       "      <td>9.0</td>\n",
       "    </tr>\n",
       "    <tr>\n",
       "      <th>player_goals</th>\n",
       "      <td>85.0</td>\n",
       "      <td>1.729412</td>\n",
       "      <td>2.238134</td>\n",
       "      <td>0.0</td>\n",
       "      <td>0.0</td>\n",
       "      <td>1.000000</td>\n",
       "      <td>2.0</td>\n",
       "      <td>12.0</td>\n",
       "    </tr>\n",
       "    <tr>\n",
       "      <th>player_red_cards</th>\n",
       "      <td>85.0</td>\n",
       "      <td>0.035294</td>\n",
       "      <td>0.185617</td>\n",
       "      <td>0.0</td>\n",
       "      <td>0.0</td>\n",
       "      <td>0.000000</td>\n",
       "      <td>0.0</td>\n",
       "      <td>1.0</td>\n",
       "    </tr>\n",
       "    <tr>\n",
       "      <th>player_yellow_cards</th>\n",
       "      <td>85.0</td>\n",
       "      <td>0.847059</td>\n",
       "      <td>1.118097</td>\n",
       "      <td>0.0</td>\n",
       "      <td>0.0</td>\n",
       "      <td>0.000000</td>\n",
       "      <td>1.0</td>\n",
       "      <td>5.0</td>\n",
       "    </tr>\n",
       "    <tr>\n",
       "      <th>profit</th>\n",
       "      <td>85.0</td>\n",
       "      <td>0.265836</td>\n",
       "      <td>0.312743</td>\n",
       "      <td>0.0</td>\n",
       "      <td>0.0</td>\n",
       "      <td>0.142857</td>\n",
       "      <td>0.5</td>\n",
       "      <td>1.5</td>\n",
       "    </tr>\n",
       "  </tbody>\n",
       "</table>\n",
       "</div>"
      ],
      "text/plain": [
       "                     count       mean       std   min   25%        50%   75%  \\\n",
       "player_age            85.0  28.694118  3.693700  20.0  26.0  28.000000  32.0   \n",
       "player_match_played   85.0   6.176471  2.450347   0.0   5.0   7.000000   8.0   \n",
       "player_goals          85.0   1.729412  2.238134   0.0   0.0   1.000000   2.0   \n",
       "player_red_cards      85.0   0.035294  0.185617   0.0   0.0   0.000000   0.0   \n",
       "player_yellow_cards   85.0   0.847059  1.118097   0.0   0.0   0.000000   1.0   \n",
       "profit                85.0   0.265836  0.312743   0.0   0.0   0.142857   0.5   \n",
       "\n",
       "                      max  \n",
       "player_age           41.0  \n",
       "player_match_played   9.0  \n",
       "player_goals         12.0  \n",
       "player_red_cards      1.0  \n",
       "player_yellow_cards   5.0  \n",
       "profit                1.5  "
      ]
     },
     "execution_count": 15,
     "metadata": {},
     "output_type": "execute_result"
    }
   ],
   "source": [
    "# descriptive statistics of dataframe \n",
    "final_data_2[\"profit\"].fillna(0, inplace = True)\n",
    "final_data_2.describe().transpose()"
   ]
  },
  {
   "cell_type": "code",
   "execution_count": null,
   "metadata": {},
   "outputs": [],
   "source": []
  },
  {
   "cell_type": "code",
   "execution_count": 16,
   "metadata": {},
   "outputs": [],
   "source": [
    "# figure size \n",
    "plt.rcParams['figure.figsize'] = (8, 4) "
   ]
  },
  {
   "cell_type": "code",
   "execution_count": 17,
   "metadata": {},
   "outputs": [
    {
     "data": {
      "image/png": "[encoded data removed]",
      "text/plain": [
       "<Figure size 576x288 with 1 Axes>"
      ]
     },
     "metadata": {
      "needs_background": "light"
     },
     "output_type": "display_data"
    }
   ],
   "source": [
    "# distribution age \n",
    "'''\n",
    "L.S. Good!\n",
    "'''\n",
    "\n",
    "distr_age = sns.distplot(final_data_2['player_age'], fit=norm);\n",
    "distr_age.set_title('Distribution of Age\\n');\n",
    "distr_age.set_xlabel('Age');\n",
    "\n",
    "# our hypoteses was that age will have an effect on the amount goals or cards \n",
    "# for this reason it is interesting to look at the distribution of age \n",
    "# you can see that age is normal distributed "
   ]
  },
  {
   "cell_type": "code",
   "execution_count": 18,
   "metadata": {},
   "outputs": [
    {
     "data": {
      "image/png": "[encoded data removed]",
      "text/plain": [
       "<Figure size 576x288 with 1 Axes>"
      ]
     },
     "metadata": {},
     "output_type": "display_data"
    }
   ],
   "source": [
    "# piechart positions: for the best 85 footbalplayers, which position is most common? \n",
    "labels = ['Forwards', 'Midlielders', 'Defenders', 'Goalkeepers'] \n",
    "sizes = final_data_2['player_type'].value_counts()\n",
    "explode = (0.1, 0, 0, 0)\n",
    "colors = ['skyblue', 'pink', 'orange', 'lightgreen'] \n",
    "\n",
    "'''\n",
    "L.S. Nice graph!\n",
    "'''\n",
    "\n",
    "plt.pie(sizes, explode=explode, labels=labels, shadow=True, autopct='%1.1f%%', startangle=90, colors=colors);\n",
    "plt.title('Distribution of Positions\\n');"
   ]
  },
  {
   "cell_type": "code",
   "execution_count": 19,
   "metadata": {},
   "outputs": [],
   "source": [
    "# create df for only countries for piechart \n",
    "country = final_data_2['player_country'].value_counts()\n",
    "country_data = pd.DataFrame(country)\n",
    "country_data['country_name'] = country_data.index\n",
    "\n",
    "other_data = country_data[country_data.player_country <= 5]\n",
    "country_data_2 = country_data[country_data.player_country >= 6]\n",
    "\n",
    "#create list labels piechart & list sizes piechart\n",
    "list_labels = list(country_data_2['country_name'])\n",
    "list_labels.append('other')\n",
    "\n",
    "list_sizes = list(country_data_2['player_country'])\n",
    "list_sizes.append(other_data.player_country.sum()) "
   ]
  },
  {
   "cell_type": "code",
   "execution_count": 20,
   "metadata": {},
   "outputs": [
    {
     "data": {
      "image/png": "[encoded data removed]",
      "text/plain": [
       "<Figure size 576x288 with 1 Axes>"
      ]
     },
     "metadata": {},
     "output_type": "display_data"
    }
   ],
   "source": [
    "# piechart countries: for the best 85 footbalplayers, where (which countries) do the players come from? \n",
    "labels = list_labels\n",
    "sizes = list_sizes\n",
    "explode = (0.2, 0, 0, 0, 0, 0)\n",
    "\n",
    "'''\n",
    "L.S. Good that you've used your own colouring -- makes the plot very readable. \n",
    "'''\n",
    "\n",
    "colors = ['skyblue', 'violet', 'lightgreen', 'orange', 'yellow', 'pink'] \n",
    "\n",
    "plt.pie(sizes, explode=explode, labels=labels, shadow=True, autopct='%1.0f%%', startangle=90, colors=colors);\n",
    "plt.title('Distribution of countries\\n');"
   ]
  },
  {
   "cell_type": "code",
   "execution_count": 21,
   "metadata": {},
   "outputs": [
    {
     "data": {
      "text/html": [
       "<div>\n",
       "<style scoped>\n",
       "    .dataframe tbody tr th:only-of-type {\n",
       "        vertical-align: middle;\n",
       "    }\n",
       "\n",
       "    .dataframe tbody tr th {\n",
       "        vertical-align: top;\n",
       "    }\n",
       "\n",
       "    .dataframe thead th {\n",
       "        text-align: right;\n",
       "    }\n",
       "</style>\n",
       "<table border=\"1\" class=\"dataframe\">\n",
       "  <thead>\n",
       "    <tr style=\"text-align: right;\">\n",
       "      <th></th>\n",
       "      <th>player_age</th>\n",
       "      <th>player_match_played</th>\n",
       "      <th>player_goals</th>\n",
       "      <th>player_red_cards</th>\n",
       "      <th>player_yellow_cards</th>\n",
       "      <th>profit</th>\n",
       "    </tr>\n",
       "  </thead>\n",
       "  <tbody>\n",
       "    <tr>\n",
       "      <th>player_age</th>\n",
       "      <td>1.000000</td>\n",
       "      <td>-0.028163</td>\n",
       "      <td>0.020110</td>\n",
       "      <td>0.102752</td>\n",
       "      <td>-0.103705</td>\n",
       "      <td>0.062866</td>\n",
       "    </tr>\n",
       "    <tr>\n",
       "      <th>player_match_played</th>\n",
       "      <td>-0.028163</td>\n",
       "      <td>1.000000</td>\n",
       "      <td>0.334421</td>\n",
       "      <td>-0.066206</td>\n",
       "      <td>0.270683</td>\n",
       "      <td>0.115521</td>\n",
       "    </tr>\n",
       "    <tr>\n",
       "      <th>player_goals</th>\n",
       "      <td>0.020110</td>\n",
       "      <td>0.334421</td>\n",
       "      <td>1.000000</td>\n",
       "      <td>-0.062706</td>\n",
       "      <td>0.045110</td>\n",
       "      <td>0.907430</td>\n",
       "    </tr>\n",
       "    <tr>\n",
       "      <th>player_red_cards</th>\n",
       "      <td>0.102752</td>\n",
       "      <td>-0.066206</td>\n",
       "      <td>-0.062706</td>\n",
       "      <td>1.000000</td>\n",
       "      <td>0.026319</td>\n",
       "      <td>-0.043922</td>\n",
       "    </tr>\n",
       "    <tr>\n",
       "      <th>player_yellow_cards</th>\n",
       "      <td>-0.103705</td>\n",
       "      <td>0.270683</td>\n",
       "      <td>0.045110</td>\n",
       "      <td>0.026319</td>\n",
       "      <td>1.000000</td>\n",
       "      <td>0.008792</td>\n",
       "    </tr>\n",
       "    <tr>\n",
       "      <th>profit</th>\n",
       "      <td>0.062866</td>\n",
       "      <td>0.115521</td>\n",
       "      <td>0.907430</td>\n",
       "      <td>-0.043922</td>\n",
       "      <td>0.008792</td>\n",
       "      <td>1.000000</td>\n",
       "    </tr>\n",
       "  </tbody>\n",
       "</table>\n",
       "</div>"
      ],
      "text/plain": [
       "                     player_age  player_match_played  player_goals  \\\n",
       "player_age             1.000000            -0.028163      0.020110   \n",
       "player_match_played   -0.028163             1.000000      0.334421   \n",
       "player_goals           0.020110             0.334421      1.000000   \n",
       "player_red_cards       0.102752            -0.066206     -0.062706   \n",
       "player_yellow_cards   -0.103705             0.270683      0.045110   \n",
       "profit                 0.062866             0.115521      0.907430   \n",
       "\n",
       "                     player_red_cards  player_yellow_cards    profit  \n",
       "player_age                   0.102752            -0.103705  0.062866  \n",
       "player_match_played         -0.066206             0.270683  0.115521  \n",
       "player_goals                -0.062706             0.045110  0.907430  \n",
       "player_red_cards             1.000000             0.026319 -0.043922  \n",
       "player_yellow_cards          0.026319             1.000000  0.008792  \n",
       "profit                      -0.043922             0.008792  1.000000  "
      ]
     },
     "execution_count": 21,
     "metadata": {},
     "output_type": "execute_result"
    }
   ],
   "source": [
    "# correlation matrix \n",
    "final_data_2.corr()"
   ]
  },
  {
   "cell_type": "code",
   "execution_count": 22,
   "metadata": {},
   "outputs": [],
   "source": [
    "# figure size \n",
    "plt.rcParams['figure.figsize'] = (26, 4) "
   ]
  },
  {
   "cell_type": "code",
   "execution_count": 23,
   "metadata": {},
   "outputs": [
    {
     "data": {
      "image/png": "[encoded data removed]",
      "text/plain": [
       "<Figure size 1872x288 with 5 Axes>"
      ]
     },
     "metadata": {
      "needs_background": "light"
     },
     "output_type": "display_data"
    }
   ],
   "source": [
    "'''\n",
    "L.S. Good, however,try to smoothen it a bit next time. Scatterplots are more suitable for cases where there are many,\n",
    "continuously-valued data points. \n",
    "'''\n",
    "\n",
    "plt.subplot(1,5,1)\n",
    "sns.scatterplot(x=\"player_age\", y=\"player_goals\", data=final_data_2, color = 'skyblue');\n",
    "plt.title('Age vs Goals');\n",
    "plt.xlabel('Age');\n",
    "plt.ylabel('Goals');\n",
    "# conclusion: no lineair relationship, regplot not nessecary because you already see there is no relationship\n",
    "\n",
    "plt.subplot(1,5,2)\n",
    "sns.scatterplot(x=\"player_age\", y=\"profit\", data=final_data_2, color = 'pink');\n",
    "plt.title('Age vs Profit');\n",
    "plt.xlabel('Age');\n",
    "plt.ylabel('Profit (Goals / Matches Played)');\n",
    "# conclusion: no lineair relationship, regplot not nessecary because you already see there is no relationship\n",
    "\n",
    "plt.subplot(1,5,3)\n",
    "sns.scatterplot(x=\"player_age\", y=\"player_yellow_cards\", data=final_data_2, color = 'orange');\n",
    "plt.title('Age vs Yellow Cards');\n",
    "plt.xlabel('Age');\n",
    "plt.ylabel('Yellow Cards');\n",
    "# conclusion: no lineair relationship, regplot not nessecary because you already see there is no relationship\n",
    "\n",
    "plt.subplot(1,5,4)\n",
    "sns.scatterplot(x=\"player_age\", y=\"player_red_cards\", data=final_data_2, color = 'violet');\n",
    "plt.title('Age vs Red Cards');\n",
    "plt.xlabel('Age');\n",
    "plt.ylabel('Red Cards');\n",
    "# conclusion: no lineair relationship, regplot not nessecary because you already see there is no relationship \n",
    "\n",
    "plt.subplot(1,5,5)\n",
    "sns.scatterplot(x=\"player_age\", y=\"player_match_played\", data=final_data_2, color = 'lightgreen');\n",
    "plt.title('Age vs Matches Played');\n",
    "plt.xlabel('Age');\n",
    "plt.ylabel('Matches Played');\n",
    "# conclusion: no lineair relationship, regplot not nessecary because you already see there is no relationship\n",
    "\n",
    "# main conclusion about age: there is no lineair relationship bewteen age and every other variable\n",
    "# against what we were expecting: age is not a pedictor "
   ]
  },
  {
   "cell_type": "code",
   "execution_count": 24,
   "metadata": {},
   "outputs": [],
   "source": [
    "# figure size\n",
    "plt.rcParams['figure.figsize'] = (8, 4) "
   ]
  },
  {
   "cell_type": "code",
   "execution_count": 25,
   "metadata": {},
   "outputs": [
    {
     "data": {
      "image/png": "[encoded data removed]",
      "text/plain": [
       "<Figure size 576x288 with 1 Axes>"
      ]
     },
     "metadata": {
      "needs_background": "light"
     },
     "output_type": "display_data"
    }
   ],
   "source": [
    "# scatterplot match played & goals\n",
    "sns.scatterplot(x=\"player_match_played\", y=\"player_goals\", data=final_data_2); \n",
    "plt.title('Scatterplot Matches Played vs Goals\\n');\n",
    "plt.xlabel('Matches Played'); \n",
    "plt.ylabel('Goals');\n",
    "\n",
    "# conclusion: there might be a lineair relationship"
   ]
  },
  {
   "cell_type": "code",
   "execution_count": 26,
   "metadata": {},
   "outputs": [
    {
     "data": {
      "image/png": "[encoded data removed]",
      "text/plain": [
       "<Figure size 576x288 with 1 Axes>"
      ]
     },
     "metadata": {
      "needs_background": "light"
     },
     "output_type": "display_data"
    }
   ],
   "source": [
    "# reg plot match played & goals\n",
    "'''\n",
    "L.S. Interesting!\n",
    "'''\n",
    "\n",
    "sns.regplot(x=\"player_match_played\", y=\"player_goals\", data=final_data_2);\n",
    "plt.title('Regressionplot Matches Played vs Goals\\n');\n",
    "plt.xlabel('Matches Played'); \n",
    "plt.ylabel('Goals');"
   ]
  },
  {
   "cell_type": "code",
   "execution_count": 27,
   "metadata": {},
   "outputs": [
    {
     "name": "stdout",
     "output_type": "stream",
     "text": [
      "The slope is: 0.305\n",
      "The intercept is: -0.157\n",
      "Regression: Goals = 0.305 -0.157 * Matches Played \n",
      "\n",
      "The std. error is: 0.094\n",
      "It is True that the std. error is small and that Matches Played is a good predictor for Goals\n"
     ]
    }
   ],
   "source": [
    "# regression formula match played & goals\n",
    "x = final_data_2['player_match_played']\n",
    "y = final_data_2['player_goals']\n",
    "\n",
    "x_value = 'Matches Played'\n",
    "y_value = 'Goals'\n",
    "\n",
    "slope, intercept, r_value, p_value, std_err = stats.linregress(x, y) \n",
    "all_stats = stats.linregress(x, y)\n",
    "\n",
    "print('The slope is:', \"{:.3f}\".format(slope))\n",
    "print('The intercept is:', \"{:.3f}\".format(intercept))\n",
    "print('Regression:', y_value, '=',\"{:.3f}\".format(slope), \"{:.3f}\".format(intercept),'*', x_value,'\\n')\n",
    "print('The std. error is:', \"{:.3f}\".format(std_err))\n",
    "print('It is', std_err < 0.1, 'that the std. error is small and that', x_value, 'is a good predictor for', y_value)"
   ]
  },
  {
   "cell_type": "code",
   "execution_count": 28,
   "metadata": {},
   "outputs": [
    {
     "data": {
      "image/png": "[encoded data removed]",
      "text/plain": [
       "<Figure size 576x288 with 1 Axes>"
      ]
     },
     "metadata": {
      "needs_background": "light"
     },
     "output_type": "display_data"
    }
   ],
   "source": [
    "# scatterplot match played & yellow_cards\n",
    "sns.scatterplot(x=\"player_match_played\", y=\"player_yellow_cards\", data=final_data_2);\n",
    "plt.title('Scatterplot Matches Played vs Yellow Cards\\n');\n",
    "plt.xlabel('Matches Played'); \n",
    "plt.ylabel('Yellow Cards');\n",
    "\n",
    "# conclusion: there might be a lineair relationship "
   ]
  },
  {
   "cell_type": "code",
   "execution_count": 29,
   "metadata": {},
   "outputs": [
    {
     "data": {
      "image/png": "[encoded data removed]",
      "text/plain": [
       "<Figure size 576x288 with 1 Axes>"
      ]
     },
     "metadata": {
      "needs_background": "light"
     },
     "output_type": "display_data"
    }
   ],
   "source": [
    "# reg plot match played & yellow_cards\n",
    "sns.regplot(x=\"player_match_played\", y=\"player_yellow_cards\", data=final_data_2);\n",
    "plt.title('Regressionplot Matches Played vs Yellow Cards\\n');\n",
    "plt.xlabel('Matches Played'); \n",
    "plt.ylabel('Yellow Cards');"
   ]
  },
  {
   "cell_type": "code",
   "execution_count": 30,
   "metadata": {},
   "outputs": [
    {
     "name": "stdout",
     "output_type": "stream",
     "text": [
      "The slope is: 0.124\n",
      "The intercept is: 0.084\n",
      "Regression: Yellow Cards = 0.124 + 0.084 * Matches Played \n",
      "\n",
      "The std. error is: 0.048\n",
      "It is True that the std. error is small and that Matches Played is a good predictor for Yellow Cards\n"
     ]
    }
   ],
   "source": [
    "# regression formula yellow_cards & match played \n",
    "'''\n",
    "L.S. Very nice! What does this tell us? \n",
    "'''\n",
    "\n",
    "x = final_data_2['player_match_played']\n",
    "y = final_data_2['player_yellow_cards']\n",
    "\n",
    "x_value = 'Matches Played'\n",
    "y_value = 'Yellow Cards'\n",
    "\n",
    "slope, intercept, r_value, p_value, std_err = stats.linregress(x, y) \n",
    "all_stats = stats.linregress(x, y)\n",
    "\n",
    "print('The slope is:', \"{:.3f}\".format(slope))\n",
    "print('The intercept is:', \"{:.3f}\".format(intercept))\n",
    "print('Regression:', y_value, '=',\"{:.3f}\".format(slope),'+',\"{:.3f}\".format(intercept),'*', x_value, '\\n')\n",
    "print('The std. error is:', \"{:.3f}\".format(std_err))\n",
    "print('It is', std_err < 0.1, 'that the std. error is small and that',  x_value, 'is a good predictor for', y_value)"
   ]
  },
  {
   "cell_type": "code",
   "execution_count": null,
   "metadata": {},
   "outputs": [],
   "source": []
  }
 ],
 "metadata": {
  "kernelspec": {
   "display_name": "Python 3",
   "language": "python",
   "name": "python3"
  },
  "language_info": {
   "codemirror_mode": {
    "name": "ipython",
    "version": 3
   },
   "file_extension": ".py",
   "mimetype": "text/x-python",
   "name": "python",
   "nbconvert_exporter": "python",
   "pygments_lexer": "ipython3",
   "version": "3.6.4"
  }
 },
 "nbformat": 4,
 "nbformat_minor": 2
}
